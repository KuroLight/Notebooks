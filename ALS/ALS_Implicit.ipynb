{
 "cells": [
  {
   "cell_type": "code",
   "execution_count": 186,
   "metadata": {
    "collapsed": true
   },
   "outputs": [],
   "source": [
    "import pandas as pd\n",
    "import numpy as np\n",
    "import scipy as sp\n",
    "import scipy.sparse\n",
    "import scipy.sparse.linalg\n",
    "\n",
    "# Read the LastFM datasets\n",
    "artistsNames = [\"id\", \"name\", \"url\", \"pictureURL\"]\n",
    "artists = pd.read_table(\"/Users/daniel/Documents/Blog/artists.dat\", header=True, sep=\"\\t\", names=artistsNames)\n",
    "userArtistNames = [\"userID\", \"artistID\", \"weight\"]\n",
    "userArtists = pd.read_table(\"/Users/daniel/Documents/Blog/user_artists.dat\", header=True, sep=\"\\t\", names=userArtistNames)\n"
   ]
  },
  {
   "cell_type": "code",
   "execution_count": 187,
   "metadata": {
    "collapsed": false
   },
   "outputs": [],
   "source": [
    "f = 20\n",
    "iters = 10\n",
    "regLambda = 0.1\n",
    "alpha = 40\n",
    "n = max(artists.id)\n",
    "m = pd.Series.unique(userArtists.userID).size\n"
   ]
  },
  {
   "cell_type": "code",
   "execution_count": 188,
   "metadata": {
    "collapsed": false
   },
   "outputs": [],
   "source": [
    "# Create a dummy entry for each movie\n",
    "temp = np.zeros((n-1, 3))\n",
    "for i in range(1, n):\n",
    "    temp[i-1,] = [m+1, i, 0]\n",
    "    \n",
    "userArtists = userArtists.append(pd.DataFrame(temp, columns = userArtistNames))\n",
    "\n",
    "ratingsMatrix = userArtists.pivot_table(columns=['artistID'], index =['userID'], values='weight', dropna = False)\n",
    "\n",
    "ratingsMatrix = ratingsMatrix.fillna(0).as_matrix()\n",
    "\n",
    "# Drop the dummy movie\n",
    "ratingsMatrix = sp.sparse.csr_matrix(ratingsMatrix[0:m,0:n])"
   ]
  },
  {
   "cell_type": "code",
   "execution_count": 189,
   "metadata": {
    "collapsed": false
   },
   "outputs": [],
   "source": [
    "def normaliseRow(x):\n",
    "    return x / sum(x)\n",
    "\n",
    "def initialiseMatrix(n, f):\n",
    "    A = abs(np.random.randn(n, f))\n",
    "    return sp.sparse.csr_matrix(np.apply_along_axis(normaliseRow, 1, A))\n",
    "\n",
    "def ratingsPred(X, Y):\n",
    "    return X.dot(Y.T)\n",
    "\n",
    "def calculateMSE(X, Y, ratingsMatrix):\n",
    "    ratingsPrediction = ratingsPred(X, Y)\n",
    "    ratingsDiff = ratingsPrediction - ratingsMatrix\n",
    "    return (ratingsDiff.multiply(ratingsDiff)).mean()\n",
    "\n",
    "def calculateWeightedMSE(X, Y, P, ratingsMatrix, alpha):\n",
    "    ratingsPrediction = ratingsPred(X, Y)\n",
    "    C =  ratingsMatrix.multiply(1 + alpha)\n",
    "    weightedDiff = C.multiply(P - ratingsPrediction)\n",
    "    return weightedDiff.multiply(weightedDiff).mean()"
   ]
  },
  {
   "cell_type": "code",
   "execution_count": 190,
   "metadata": {
    "collapsed": false
   },
   "outputs": [
    {
     "name": "stdout",
     "output_type": "stream",
     "text": [
      "3.97106814192\n"
     ]
    }
   ],
   "source": [
    "# Initialise Y matrix, n x f\n",
    "Y = initialiseMatrix(n, f)\n",
    "# Initialise X matrix, m x f\n",
    "X = initialiseMatrix(m, f)\n",
    "\n",
    "reg = regLambda * np.eye(f,f)\n",
    "\n",
    "P = ratingsMatrix\n",
    "P[ratingsMatrix > 0] = 1\n",
    "\n",
    "print(calculateWeightedMSE(X, Y, P, ratingsMatrix, alpha))"
   ]
  },
  {
   "cell_type": "code",
   "execution_count": 191,
   "metadata": {
    "collapsed": false
   },
   "outputs": [],
   "source": [
    "userWeights = range(m)\n",
    "userDiag = sp.sparse.diags(np.repeat(1, n), 0)\n",
    "denseRatings = ratingsMatrix.toarray()\n",
    "for i in range(0, m-1):\n",
    "    userWeights[i+1] = sp.sparse.diags(denseRatings[i,:], 0)\n"
   ]
  },
  {
   "cell_type": "code",
   "execution_count": 192,
   "metadata": {
    "collapsed": false
   },
   "outputs": [],
   "source": [
    "itemWeights = range(n)\n",
    "itemDiag =  sp.sparse.diags(np.repeat(1, m), 0)\n",
    "for i in range(0, n-1):\n",
    "    itemWeights[i+1] = sp.sparse.diags(denseRatings[:,i], 0)"
   ]
  },
  {
   "cell_type": "code",
   "execution_count": 193,
   "metadata": {
    "collapsed": false
   },
   "outputs": [
    {
     "name": "stdout",
     "output_type": "stream",
     "text": [
      "Weighted MSE: 3.86750556942\n",
      "Weighted MSE: 3.87483479259\n",
      "Weighted MSE: 3.87117675874\n",
      "Weighted MSE: 3.88324130693\n",
      "Weighted MSE: 3.8658264083\n",
      "Weighted MSE: 3.85207893295\n",
      "Weighted MSE: 3.85665103746\n",
      "Weighted MSE: 3.85891818292\n",
      "Weighted MSE: 3.87284096409\n",
      "Done\n"
     ]
    }
   ],
   "source": [
    "for k in range(1, iters):\n",
    "    Yt = Y.T\n",
    "    YtY = Yt.dot(Y)\n",
    "    \n",
    "    for i in range(1, m):    \n",
    "        YTCuY = YtY + Yt.dot(userWeights[i] - userDiag).dot(Y)\n",
    "        updateX = sp.sparse.linalg.spsolve(YTCuY + reg, Yt.dot(userWeights[i]).dot(P.getrow(i).T))                    \n",
    "        X[i,] = updateX\n",
    "        \n",
    "    Xt = X.T\n",
    "    XtX = Xt.dot(X)\n",
    "    for j in range(1, n):\n",
    "        XTCuX = XtX + Xt.dot(itemWeights[j] - itemDiag).dot(X)\n",
    "        updateY = sp.sparse.linalg.spsolve(XTCuX + reg, Xt.dot(itemWeights[j]).dot(P.getcol(j)))                                                   \n",
    "        Y[j,] = updateY\n",
    "        \n",
    "    wMse = calculateWeightedMSE(X, Y, P, ratingsMatrix, alpha)\n",
    "    print(\"Weighted MSE: \" + str(wMse))\n",
    "        \n",
    "print(\"Done\")"
   ]
  },
  {
   "cell_type": "code",
   "execution_count": null,
   "metadata": {
    "collapsed": true
   },
   "outputs": [],
   "source": []
  }
 ],
 "metadata": {
  "kernelspec": {
   "display_name": "Python 2",
   "language": "python",
   "name": "python2"
  },
  "language_info": {
   "codemirror_mode": {
    "name": "ipython",
    "version": 2
   },
   "file_extension": ".py",
   "mimetype": "text/x-python",
   "name": "python",
   "nbconvert_exporter": "python",
   "pygments_lexer": "ipython2",
   "version": "2.7.9"
  }
 },
 "nbformat": 4,
 "nbformat_minor": 0
}

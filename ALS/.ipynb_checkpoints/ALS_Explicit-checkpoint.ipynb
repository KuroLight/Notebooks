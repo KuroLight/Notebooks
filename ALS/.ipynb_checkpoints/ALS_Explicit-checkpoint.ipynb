{
 "cells": [
  {
   "cell_type": "code",
   "execution_count": 53,
   "metadata": {
    "collapsed": true
   },
   "outputs": [],
   "source": [
    "import pandas as pd\n",
    "import numpy as np"
   ]
  },
  {
   "cell_type": "code",
   "execution_count": 54,
   "metadata": {
    "collapsed": false
   },
   "outputs": [],
   "source": [
    "ratingsNames = [\"userId\", \"movieId\", \"rating\", \"timestamp\"]\n",
    "ratings = pd.read_table(\"/Users/daniel/Documents/Blog/ml-1m/ratings.t\", header=None, sep=\"#\", names=ratingsNames)\n",
    "usersNames = [\"userId\", \"gender\", \"age\", \"occupation\", \"zipCode\"]\n",
    "users = pd.read_table(\"/Users/daniel/Documents/Blog/ml-1m/users.t\", header=None, sep=\"#\", names=usersNames)\n",
    "moviesNames = [\"movieId\", \"title\", \"genres\"]\n",
    "movies = pd.read_table(\"/Users/daniel/Documents/Blog/ml-1m/movies.t\", header=None, sep=\"#\", names=moviesNames)"
   ]
  },
  {
   "cell_type": "code",
   "execution_count": 55,
   "metadata": {
    "collapsed": false
   },
   "outputs": [
    {
     "data": {
      "text/html": [
       "<div style=\"max-height:1000px;max-width:1500px;overflow:auto;\">\n",
       "<table border=\"1\" class=\"dataframe\">\n",
       "  <thead>\n",
       "    <tr style=\"text-align: right;\">\n",
       "      <th></th>\n",
       "      <th>movieId</th>\n",
       "      <th>title</th>\n",
       "      <th>genres</th>\n",
       "    </tr>\n",
       "  </thead>\n",
       "  <tbody>\n",
       "    <tr>\n",
       "      <th>0</th>\n",
       "      <td> 1</td>\n",
       "      <td>                   Toy Story (1995)</td>\n",
       "      <td>  Animation|Children's|Comedy</td>\n",
       "    </tr>\n",
       "    <tr>\n",
       "      <th>1</th>\n",
       "      <td> 2</td>\n",
       "      <td>                     Jumanji (1995)</td>\n",
       "      <td> Adventure|Children's|Fantasy</td>\n",
       "    </tr>\n",
       "    <tr>\n",
       "      <th>2</th>\n",
       "      <td> 3</td>\n",
       "      <td>            Grumpier Old Men (1995)</td>\n",
       "      <td>               Comedy|Romance</td>\n",
       "    </tr>\n",
       "    <tr>\n",
       "      <th>3</th>\n",
       "      <td> 4</td>\n",
       "      <td>           Waiting to Exhale (1995)</td>\n",
       "      <td>                 Comedy|Drama</td>\n",
       "    </tr>\n",
       "    <tr>\n",
       "      <th>4</th>\n",
       "      <td> 5</td>\n",
       "      <td> Father of the Bride Part II (1995)</td>\n",
       "      <td>                       Comedy</td>\n",
       "    </tr>\n",
       "  </tbody>\n",
       "</table>\n",
       "</div>"
      ],
      "text/plain": [
       "   movieId                               title                        genres\n",
       "0        1                    Toy Story (1995)   Animation|Children's|Comedy\n",
       "1        2                      Jumanji (1995)  Adventure|Children's|Fantasy\n",
       "2        3             Grumpier Old Men (1995)                Comedy|Romance\n",
       "3        4            Waiting to Exhale (1995)                  Comedy|Drama\n",
       "4        5  Father of the Bride Part II (1995)                        Comedy"
      ]
     },
     "execution_count": 55,
     "metadata": {},
     "output_type": "execute_result"
    }
   ],
   "source": [
    "movies.head()"
   ]
  },
  {
   "cell_type": "code",
   "execution_count": 82,
   "metadata": {
    "collapsed": false
   },
   "outputs": [],
   "source": [
    "f = 20\n",
    "regLamba = 0.1\n",
    "iters = 20\n",
    "n = max(movies.movieId)\n",
    "m = max(users.userId)"
   ]
  },
  {
   "cell_type": "code",
   "execution_count": 57,
   "metadata": {
    "collapsed": false
   },
   "outputs": [],
   "source": [
    "def normaliseRow(x):\n",
    "    return x / sum(x)\n",
    "\n",
    "def initialiseMatrix(n, f):\n",
    "    A = abs(np.random.randn(n, f))\n",
    "    return np.apply_along_axis(normaliseRow, 1, A)\n",
    "    "
   ]
  },
  {
   "cell_type": "code",
   "execution_count": 58,
   "metadata": {
    "collapsed": false
   },
   "outputs": [],
   "source": [
    "# Initialise Y matrix, n x f\n",
    "Y = initialiseMatrix(n, f)\n",
    "# Initialise X matrix, m x f\n",
    "X = initialiseMatrix(m, f)"
   ]
  },
  {
   "cell_type": "code",
   "execution_count": 59,
   "metadata": {
    "collapsed": false
   },
   "outputs": [],
   "source": [
    "# Create a dummy entry for each movie\n",
    "temp = np.zeros((n, 4))\n",
    "for i in range(1, n):\n",
    "    temp[i,] = [m+1, i, 0, 0]\n",
    "    \n",
    "ratings = ratings.append(pd.DataFrame(temp, columns =ratingsNames))"
   ]
  },
  {
   "cell_type": "code",
   "execution_count": 70,
   "metadata": {
    "collapsed": true
   },
   "outputs": [],
   "source": [
    "ratingsMatrix = ratings.pivot_table(columns=['movieId'], index =['userId'], values='rating', dropna = False)"
   ]
  },
  {
   "cell_type": "code",
   "execution_count": 71,
   "metadata": {
    "collapsed": false
   },
   "outputs": [],
   "source": [
    "ratingsMatrix = ratingsMatrix.fillna(0).as_matrix()"
   ]
  },
  {
   "cell_type": "code",
   "execution_count": 72,
   "metadata": {
    "collapsed": false
   },
   "outputs": [],
   "source": [
    "# Drop the dummy movie\n",
    "ratingsMatrix = ratingsMatrix[0:m,0:n]"
   ]
  },
  {
   "cell_type": "code",
   "execution_count": 74,
   "metadata": {
    "collapsed": false
   },
   "outputs": [
    {
     "name": "stdout",
     "output_type": "stream",
     "text": [
      "13.7194679337\n"
     ]
    }
   ],
   "source": [
    "def ratingsPred(X, Y):\n",
    "    return np.dot(X, Y.T)\n",
    "\n",
    "def MSE(ratingsPred, ratingsMatrix):\n",
    "    idx = ratingsMatrix > 0\n",
    "    return sum((ratingsPred[idx] - ratingsMatrix[idx]) ** 2) / np.count_nonzero(ratingsMatrix)\n",
    "    \n",
    "print(MSE(ratingsPred(X, Y), ratingsMatrix))   \n"
   ]
  },
  {
   "cell_type": "code",
   "execution_count": 75,
   "metadata": {
    "collapsed": false
   },
   "outputs": [],
   "source": [
    "nonZero = ratingsMatrix > 0"
   ]
  },
  {
   "cell_type": "code",
   "execution_count": 76,
   "metadata": {
    "collapsed": false
   },
   "outputs": [],
   "source": [
    "reg = regLamba * np.eye(f,f)"
   ]
  },
  {
   "cell_type": "code",
   "execution_count": null,
   "metadata": {
    "collapsed": false
   },
   "outputs": [],
   "source": [
    "for k in range(1, iters):\n",
    "    for i in range(1, m):\n",
    "        idx = nonZero[i,:]\n",
    "        a = Y[idx,]\n",
    "        b = np.dot(np.transpose(Y[idx,]), ratingsMatrix[i, idx])\n",
    "        updateX = np.linalg.solve(np.dot(np.transpose(a), a) + reg, b)\n",
    "        X[i,] = updateX\n",
    "    \n",
    "    for j in range(1, n):\n",
    "        idx = nonZero[:,j]\n",
    "        a = X[idx,]\n",
    "        b = np.dot(np.transpose(X[idx,]), ratingsMatrix[idx, j])\n",
    "        updateY = np.linalg.solve(np.dot(np.transpose(a), a) + reg, b)\n",
    "        Y[j,] = updateY\n",
    "        \n",
    "    ratingsP = ratingsPred(X, Y)\n",
    "    mse = MSE(ratingsP, ratingsMatrix)\n",
    "    print(\"MSE: \" + str(mse))\n",
    "        \n",
    "print(\"Done\")"
   ]
  },
  {
   "cell_type": "code",
   "execution_count": null,
   "metadata": {
    "collapsed": true
   },
   "outputs": [],
   "source": []
  }
 ],
 "metadata": {
  "kernelspec": {
   "display_name": "Python 2",
   "language": "python",
   "name": "python2"
  },
  "language_info": {
   "codemirror_mode": {
    "name": "ipython",
    "version": 2
   },
   "file_extension": ".py",
   "mimetype": "text/x-python",
   "name": "python",
   "nbconvert_exporter": "python",
   "pygments_lexer": "ipython2",
   "version": "2.7.9"
  }
 },
 "nbformat": 4,
 "nbformat_minor": 0
}
